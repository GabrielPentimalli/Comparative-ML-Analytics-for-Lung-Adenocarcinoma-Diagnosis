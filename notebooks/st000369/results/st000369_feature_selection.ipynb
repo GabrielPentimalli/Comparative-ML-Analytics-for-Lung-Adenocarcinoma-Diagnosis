{
 "cells": [
  {
   "cell_type": "markdown",
   "metadata": {},
   "source": [
    "### Librerie"
   ]
  },
  {
   "cell_type": "code",
   "execution_count": 21,
   "metadata": {},
   "outputs": [],
   "source": [
    "# Librerie di base\n",
    "import numpy as np\n",
    "import pandas as pd\n",
    "import seaborn as sns\n",
    "import matplotlib.pyplot as plt\n",
    "from tabulate import tabulate\n",
    "from plottable import Table"
   ]
  },
  {
   "cell_type": "markdown",
   "metadata": {},
   "source": [
    "### Tabella con i metaboliti e i relativi codici"
   ]
  },
  {
   "cell_type": "code",
   "execution_count": 22,
   "metadata": {},
   "outputs": [],
   "source": [
    "metabolites = pd.read_excel('../../../data/ST000369_Metabolites.xlsx', index_col=0)\n",
    "metabolites = pd.DataFrame(metabolites)"
   ]
  },
  {
   "cell_type": "code",
   "execution_count": 23,
   "metadata": {},
   "outputs": [],
   "source": [
    "def get_metabolites(mtblt, metabolites):\n",
    "    metaboliti_selezionati = metabolites[metabolites['Name'].isin(mtblt)]\n",
    "    names = metaboliti_selezionati['Label'].tolist()\n",
    "    return names"
   ]
  },
  {
   "cell_type": "markdown",
   "metadata": {},
   "source": [
    "### AdaBoost"
   ]
  },
  {
   "cell_type": "code",
   "execution_count": 24,
   "metadata": {},
   "outputs": [
    {
     "name": "stdout",
     "output_type": "stream",
     "text": [
      "54\n"
     ]
    }
   ],
   "source": [
    "codes_ab = ['M1', 'M4', 'M6', 'M7', 'M8', 'M9', 'M13', 'M16', 'M24', 'M25', 'M31', 'M33', 'M37', 'M39', 'M41', 'M42', 'M44', 'M45', 'M47', 'M50', 'M60', 'M62', 'M63', 'M67', 'M68', 'M69', 'M74', 'M76', 'M78', 'M89', 'M91', 'M92', 'M97', 'M100', 'M103', 'M104', 'M106', 'M115', 'M117', 'M121', 'M129', 'M133', 'M139', 'M140', 'M149', 'M151', 'M154', 'M161', 'M168', 'M170', 'M171', 'M173', 'M176', 'M179']\n",
    "print(len(codes_ab))"
   ]
  },
  {
   "cell_type": "code",
   "execution_count": 25,
   "metadata": {},
   "outputs": [
    {
     "name": "stdout",
     "output_type": "stream",
     "text": [
      "xylose\n",
      "valine\n",
      "uric acid\n",
      "urea\n",
      "tyrosine\n",
      "tryptophan\n",
      "threonine\n",
      "taurine\n",
      "serine\n",
      "salicylic acid\n",
      "pyrophosphate\n",
      "proline\n",
      "phenylalanine\n",
      "paracetamol\n",
      "palmitoleic acid\n",
      "palmitic acid\n",
      "oxoproline\n",
      "oxalic acid\n",
      "oleic acid\n",
      "naproxen\n",
      "mannitol\n",
      "maltose\n",
      "malonic acid\n",
      "lysine\n",
      "linolenic acid\n",
      "linoleic acid\n",
      "lauric acid\n",
      "lactic acid\n",
      "kynurenine\n",
      "hypoxanthine\n",
      "histidine\n",
      "hippuric acid\n",
      "glycine\n",
      "glycerol\n",
      "glutamine\n",
      "glutamic acid\n",
      "glucose\n",
      "fructose\n",
      "erythritol\n",
      "cystine\n",
      "cholesterol\n",
      "butane-2,3-diol (NIST)\n",
      "azelaic acid\n",
      "aspartic acid\n",
      "alanine\n",
      "adenosine-5-phosphate\n",
      "6-deoxyglucitol NIST\n",
      "3-hydroxybutanoic acid\n",
      "2-hydroxyhippuric acid\n",
      "2-hydroxybutanoic acid\n",
      "deoxytetronic acid NIST\n",
      "deoxythreittol NIST\n",
      "1,5-anhydroglucitol\n",
      "715929 carbohydrate\n",
      "--------------------\n",
      "True\n",
      "True\n"
     ]
    }
   ],
   "source": [
    "for m in get_metabolites(codes_ab, metabolites):\n",
    "    print(m)\n",
    "\n",
    "print(\"--------------------\")\n",
    "\n",
    "# Controllo se \"aspartate acid\" è presente\n",
    "aspartate_acid_ab = ('aspartic acid' in get_metabolites(codes_ab, metabolites))\n",
    "print(aspartate_acid_ab)\n",
    "\n",
    "# Controllo se \"pyrophosphate\" è presente\n",
    "pyrophosphate_ab = ('pyrophosphate' in get_metabolites(codes_ab, metabolites))\n",
    "print(pyrophosphate_ab)"
   ]
  },
  {
   "cell_type": "markdown",
   "metadata": {},
   "source": [
    "### Gradient Boosting"
   ]
  },
  {
   "cell_type": "code",
   "execution_count": 26,
   "metadata": {},
   "outputs": [
    {
     "name": "stdout",
     "output_type": "stream",
     "text": [
      "57\n"
     ]
    }
   ],
   "source": [
    "codes_gb = ['M1', 'M4', 'M6', 'M7', 'M8', 'M9', 'M13', 'M16', 'M24', 'M25', 'M31', 'M33', 'M37', 'M39', 'M41', 'M42', 'M44', 'M45', 'M47', 'M50', 'M60', 'M61', 'M62', 'M63', 'M67', 'M68', 'M69', 'M74', 'M76', 'M78', 'M84', 'M89', 'M91', 'M92', 'M97', 'M100', 'M103', 'M104', 'M105', 'M106', 'M115', 'M117', 'M121', 'M129', 'M133', 'M139', 'M140', 'M149', 'M151', 'M154', 'M161', 'M168', 'M170', 'M171', 'M173', 'M176', 'M179']\n",
    "print(len(codes_gb))"
   ]
  },
  {
   "cell_type": "code",
   "execution_count": 27,
   "metadata": {},
   "outputs": [
    {
     "name": "stdout",
     "output_type": "stream",
     "text": [
      "xylose\n",
      "valine\n",
      "uric acid\n",
      "urea\n",
      "tyrosine\n",
      "tryptophan\n",
      "threonine\n",
      "taurine\n",
      "serine\n",
      "salicylic acid\n",
      "pyrophosphate\n",
      "proline\n",
      "phenylalanine\n",
      "paracetamol\n",
      "palmitoleic acid\n",
      "palmitic acid\n",
      "oxoproline\n",
      "oxalic acid\n",
      "oleic acid\n",
      "naproxen\n",
      "mannitol\n",
      "maltotriose\n",
      "maltose\n",
      "malonic acid\n",
      "lysine\n",
      "linolenic acid\n",
      "linoleic acid\n",
      "lauric acid\n",
      "lactic acid\n",
      "kynurenine\n",
      "inositol myo-\n",
      "hypoxanthine\n",
      "histidine\n",
      "hippuric acid\n",
      "glycine\n",
      "glycerol\n",
      "glutamine\n",
      "glutamic acid\n",
      "glucuronic acid\n",
      "glucose\n",
      "fructose\n",
      "erythritol\n",
      "cystine\n",
      "cholesterol\n",
      "butane-2,3-diol (NIST)\n",
      "azelaic acid\n",
      "aspartic acid\n",
      "alanine\n",
      "adenosine-5-phosphate\n",
      "6-deoxyglucitol NIST\n",
      "3-hydroxybutanoic acid\n",
      "2-hydroxyhippuric acid\n",
      "2-hydroxybutanoic acid\n",
      "deoxytetronic acid NIST\n",
      "deoxythreittol NIST\n",
      "1,5-anhydroglucitol\n",
      "715929 carbohydrate\n",
      "--------------------\n",
      "True\n",
      "True\n"
     ]
    }
   ],
   "source": [
    "for m in get_metabolites(codes_gb, metabolites):\n",
    "    print(m)\n",
    "\n",
    "print(\"--------------------\")\n",
    "\n",
    "# Controllo se \"aspartate acid\" è presente\n",
    "aspartate_acid_gb = ('aspartic acid' in get_metabolites(codes_gb, metabolites))\n",
    "print(aspartate_acid_gb)\n",
    "\n",
    "# Controllo se \"pyrophosphate\" è presente\n",
    "pyrophosphate_gb = ('pyrophosphate' in get_metabolites(codes_gb, metabolites))\n",
    "print(pyrophosphate_gb)"
   ]
  },
  {
   "cell_type": "markdown",
   "metadata": {},
   "source": [
    "### Logistic Regression"
   ]
  },
  {
   "cell_type": "code",
   "execution_count": 28,
   "metadata": {},
   "outputs": [
    {
     "name": "stdout",
     "output_type": "stream",
     "text": [
      "69\n"
     ]
    }
   ],
   "source": [
    "codes_lr = ['M1', 'M2', 'M3', 'M9', 'M14', 'M16', 'M25', 'M29', 'M31', 'M33', 'M37', 'M39', 'M41', 'M42', 'M45', 'M47', 'M50', 'M53', 'M55', 'M60', 'M61', 'M62', 'M64', 'M66', 'M67', 'M68', 'M69', 'M70', 'M76', 'M78', 'M80', 'M83', 'M85', 'M86', 'M87', 'M89', 'M91', 'M95', 'M98', 'M100', 'M103', 'M104', 'M106', 'M109', 'M115', 'M116', 'M117', 'M120', 'M121', 'M123', 'M126', 'M127', 'M130', 'M133', 'M139', 'M140', 'M142', 'M143', 'M151', 'M154', 'M159', 'M160', 'M161', 'M168', 'M169', 'M171', 'M174', 'M179', 'M180']\n",
    "print(len(codes_lr))"
   ]
  },
  {
   "cell_type": "code",
   "execution_count": 29,
   "metadata": {},
   "outputs": [
    {
     "name": "stdout",
     "output_type": "stream",
     "text": [
      "xylose\n",
      "xylitol\n",
      "xanthine\n",
      "tryptophan\n",
      "threonic acid\n",
      "taurine\n",
      "salicylic acid\n",
      "quinic acid\n",
      "pyrophosphate\n",
      "proline\n",
      "phenylalanine\n",
      "paracetamol\n",
      "palmitoleic acid\n",
      "palmitic acid\n",
      "oxalic acid\n",
      "oleic acid\n",
      "naproxen\n",
      "N-acetylglycine NIST\n",
      "myristic acid\n",
      "mannitol\n",
      "maltotriose\n",
      "maltose\n",
      "malic acid\n",
      "lyxose\n",
      "lysine\n",
      "linolenic acid\n",
      "linoleic acid\n",
      "lignoceric acid\n",
      "lactic acid\n",
      "kynurenine\n",
      "isolinoleic acid NIST\n",
      "inulobiose\n",
      "inosine 5'-monophosphate\n",
      "inosine\n",
      "indole-3-lactate\n",
      "hypoxanthine\n",
      "histidine\n",
      "glyoxalurea NIST\n",
      "glycerol-alpha-phosphate\n",
      "glycerol\n",
      "glutamine\n",
      "glutamic acid\n",
      "glucose\n",
      "gamma-glutamyl-valine\n",
      "fructose\n",
      "ethanolamine\n",
      "erythritol\n",
      "cytidine-5'-diphosphate\n",
      "cystine\n",
      "cysteine\n",
      "conduritol beta expoxide\n",
      "citrulline\n",
      "cellobiotol\n",
      "butane-2,3-diol (NIST)\n",
      "azelaic acid\n",
      "aspartic acid\n",
      "arachidonic acid\n",
      "arachidic acid\n",
      "adenosine-5-phosphate\n",
      "6-deoxyglucitol NIST\n",
      "4-hydroxyphenylacetic acid\n",
      "3-phosphoglycerate\n",
      "3-hydroxybutanoic acid\n",
      "2-hydroxyhippuric acid\n",
      "2-hydroxyglutaric acid\n",
      "deoxytetronic acid NIST\n",
      "2-deoxyerythritol\n",
      "715929 carbohydrate\n",
      "400671 carbohydrate\n",
      "--------------------\n",
      "True\n",
      "True\n"
     ]
    }
   ],
   "source": [
    "for m in get_metabolites(codes_lr, metabolites):\n",
    "    print(m)\n",
    "\n",
    "print(\"--------------------\")\n",
    "\n",
    "# Controllo se \"aspartate acid\" è presente\n",
    "aspartate_acid_lr = ('aspartic acid' in get_metabolites(codes_lr, metabolites))\n",
    "print(aspartate_acid_lr)\n",
    "\n",
    "# Controllo se \"pyrophosphate\" è presente\n",
    "pyrophosphate_lr = ('pyrophosphate' in get_metabolites(codes_lr, metabolites))\n",
    "print(pyrophosphate_lr)"
   ]
  },
  {
   "cell_type": "markdown",
   "metadata": {},
   "source": [
    "### Multinomial Naive Bayes"
   ]
  },
  {
   "cell_type": "code",
   "execution_count": 30,
   "metadata": {},
   "outputs": [
    {
     "name": "stdout",
     "output_type": "stream",
     "text": [
      "36\n"
     ]
    }
   ],
   "source": [
    "codes_mnb = ['M4', 'M6', 'M7', 'M9', 'M25', 'M31', 'M33', 'M39', 'M41', 'M42', 'M44', 'M45', 'M47', 'M50', 'M60', 'M62', 'M63', 'M67', 'M76', 'M91', 'M100', 'M103', 'M104', 'M106', 'M115', 'M117', 'M121', 'M129', 'M133', 'M140', 'M151', 'M161', 'M168', 'M170', 'M176', 'M179']\n",
    "print(len(codes_mnb))"
   ]
  },
  {
   "cell_type": "code",
   "execution_count": 31,
   "metadata": {},
   "outputs": [
    {
     "name": "stdout",
     "output_type": "stream",
     "text": [
      "valine\n",
      "uric acid\n",
      "urea\n",
      "tryptophan\n",
      "salicylic acid\n",
      "pyrophosphate\n",
      "proline\n",
      "paracetamol\n",
      "palmitoleic acid\n",
      "palmitic acid\n",
      "oxoproline\n",
      "oxalic acid\n",
      "oleic acid\n",
      "naproxen\n",
      "mannitol\n",
      "maltose\n",
      "malonic acid\n",
      "lysine\n",
      "lactic acid\n",
      "histidine\n",
      "glycerol\n",
      "glutamine\n",
      "glutamic acid\n",
      "glucose\n",
      "fructose\n",
      "erythritol\n",
      "cystine\n",
      "cholesterol\n",
      "butane-2,3-diol (NIST)\n",
      "aspartic acid\n",
      "adenosine-5-phosphate\n",
      "3-hydroxybutanoic acid\n",
      "2-hydroxyhippuric acid\n",
      "2-hydroxybutanoic acid\n",
      "1,5-anhydroglucitol\n",
      "715929 carbohydrate\n",
      "--------------------\n",
      "True\n",
      "True\n"
     ]
    }
   ],
   "source": [
    "for m in get_metabolites(codes_mnb, metabolites):\n",
    "    print(m)\n",
    "\n",
    "print(\"--------------------\")\n",
    "\n",
    "# Controllo se \"aspartate acid\" è presente\n",
    "aspartate_acid_mnb = ('aspartic acid' in get_metabolites(codes_mnb, metabolites))\n",
    "print(aspartate_acid_mnb)\n",
    "\n",
    "# Controllo se \"pyrophosphate\" è presente\n",
    "pyrophosphate_mnb = ('pyrophosphate' in get_metabolites(codes_mnb, metabolites))\n",
    "print(pyrophosphate_mnb)"
   ]
  },
  {
   "cell_type": "markdown",
   "metadata": {},
   "source": [
    "### Partial Least Squares"
   ]
  },
  {
   "cell_type": "code",
   "execution_count": 32,
   "metadata": {},
   "outputs": [
    {
     "name": "stdout",
     "output_type": "stream",
     "text": [
      "52\n"
     ]
    }
   ],
   "source": [
    "codes_pls = ['M1', 'M4', 'M6', 'M7', 'M8', 'M9', 'M13', 'M24', 'M25', 'M31', 'M33', 'M37', 'M39', 'M41', 'M42', 'M44', 'M45', 'M47', 'M50', 'M60', 'M62', 'M63', 'M67', 'M69', 'M74', 'M76', 'M78', 'M89', 'M91', 'M92', 'M97', 'M100', 'M103', 'M104', 'M106', 'M115', 'M117', 'M121', 'M129', 'M133', 'M139', 'M140', 'M149', 'M151', 'M154', 'M161', 'M168', 'M170', 'M171', 'M173', 'M176', 'M179']\n",
    "print(len(codes_pls))"
   ]
  },
  {
   "cell_type": "code",
   "execution_count": 33,
   "metadata": {},
   "outputs": [
    {
     "name": "stdout",
     "output_type": "stream",
     "text": [
      "xylose\n",
      "valine\n",
      "uric acid\n",
      "urea\n",
      "tyrosine\n",
      "tryptophan\n",
      "threonine\n",
      "serine\n",
      "salicylic acid\n",
      "pyrophosphate\n",
      "proline\n",
      "phenylalanine\n",
      "paracetamol\n",
      "palmitoleic acid\n",
      "palmitic acid\n",
      "oxoproline\n",
      "oxalic acid\n",
      "oleic acid\n",
      "naproxen\n",
      "mannitol\n",
      "maltose\n",
      "malonic acid\n",
      "lysine\n",
      "linoleic acid\n",
      "lauric acid\n",
      "lactic acid\n",
      "kynurenine\n",
      "hypoxanthine\n",
      "histidine\n",
      "hippuric acid\n",
      "glycine\n",
      "glycerol\n",
      "glutamine\n",
      "glutamic acid\n",
      "glucose\n",
      "fructose\n",
      "erythritol\n",
      "cystine\n",
      "cholesterol\n",
      "butane-2,3-diol (NIST)\n",
      "azelaic acid\n",
      "aspartic acid\n",
      "alanine\n",
      "adenosine-5-phosphate\n",
      "6-deoxyglucitol NIST\n",
      "3-hydroxybutanoic acid\n",
      "2-hydroxyhippuric acid\n",
      "2-hydroxybutanoic acid\n",
      "deoxytetronic acid NIST\n",
      "deoxythreittol NIST\n",
      "1,5-anhydroglucitol\n",
      "715929 carbohydrate\n",
      "--------------------\n",
      "True\n",
      "True\n"
     ]
    }
   ],
   "source": [
    "for m in get_metabolites(codes_pls, metabolites):\n",
    "    print(m)\n",
    "\n",
    "print(\"--------------------\")\n",
    "\n",
    "# Controllo se \"aspartate acid\" è presente\n",
    "aspartate_acid_pls = ('aspartic acid' in get_metabolites(codes_pls, metabolites))\n",
    "print(aspartate_acid_pls)\n",
    "\n",
    "# Controllo se \"pyrophosphate\" è presente\n",
    "pyrophosphate_pls = ('pyrophosphate' in get_metabolites(codes_pls, metabolites))\n",
    "print(pyrophosphate_pls)"
   ]
  },
  {
   "cell_type": "markdown",
   "metadata": {},
   "source": [
    "### Random Forest"
   ]
  },
  {
   "cell_type": "code",
   "execution_count": 34,
   "metadata": {},
   "outputs": [
    {
     "name": "stdout",
     "output_type": "stream",
     "text": [
      "67\n"
     ]
    }
   ],
   "source": [
    "codes_rf = ['M1', 'M2', 'M4', 'M6', 'M7', 'M9', 'M12', 'M16', 'M18', 'M21', 'M24', 'M25', 'M26', 'M31', 'M33', 'M37', 'M39', 'M41', 'M44', 'M45', 'M46', 'M47', 'M50', 'M60', 'M62', 'M63', 'M67', 'M73', 'M74', 'M76', 'M78', 'M83', 'M84', 'M89', 'M92', 'M97', 'M98', 'M99', 'M100', 'M101', 'M103', 'M104', 'M106', 'M115', 'M116', 'M117', 'M121', 'M123', 'M125', 'M128', 'M129', 'M133', 'M139', 'M140', 'M142', 'M143', 'M149', 'M151', 'M154', 'M160', 'M161', 'M168', 'M170', 'M171', 'M173', 'M176', 'M179']\n",
    "print(len(codes_rf))"
   ]
  },
  {
   "cell_type": "code",
   "execution_count": 35,
   "metadata": {},
   "outputs": [
    {
     "name": "stdout",
     "output_type": "stream",
     "text": [
      "xylose\n",
      "xylitol\n",
      "valine\n",
      "uric acid\n",
      "urea\n",
      "tryptophan\n",
      "tocopherol alpha\n",
      "taurine\n",
      "sucrose\n",
      "stearic acid\n",
      "serine\n",
      "salicylic acid\n",
      "salicylaldehyde\n",
      "pyrophosphate\n",
      "proline\n",
      "phenylalanine\n",
      "paracetamol\n",
      "palmitoleic acid\n",
      "oxoproline\n",
      "oxalic acid\n",
      "ornithine\n",
      "oleic acid\n",
      "naproxen\n",
      "mannitol\n",
      "maltose\n",
      "malonic acid\n",
      "lysine\n",
      "leucine\n",
      "lauric acid\n",
      "lactic acid\n",
      "kynurenine\n",
      "inulobiose\n",
      "inositol myo-\n",
      "hypoxanthine\n",
      "hippuric acid\n",
      "glycine\n",
      "glycerol-alpha-phosphate\n",
      "glycerol-3-galactoside\n",
      "glycerol\n",
      "glyceric acid\n",
      "glutamine\n",
      "glutamic acid\n",
      "glucose\n",
      "fructose\n",
      "ethanolamine\n",
      "erythritol\n",
      "cystine\n",
      "cysteine\n",
      "creatinine\n",
      "citric acid\n",
      "cholesterol\n",
      "butane-2,3-diol (NIST)\n",
      "azelaic acid\n",
      "aspartic acid\n",
      "arachidonic acid\n",
      "arachidic acid\n",
      "alanine\n",
      "adenosine-5-phosphate\n",
      "6-deoxyglucitol NIST\n",
      "3-phosphoglycerate\n",
      "3-hydroxybutanoic acid\n",
      "2-hydroxyhippuric acid\n",
      "2-hydroxybutanoic acid\n",
      "deoxytetronic acid NIST\n",
      "deoxythreittol NIST\n",
      "1,5-anhydroglucitol\n",
      "715929 carbohydrate\n",
      "--------------------\n",
      "True\n",
      "True\n"
     ]
    }
   ],
   "source": [
    "for m in get_metabolites(codes_rf, metabolites):\n",
    "    print(m)\n",
    "\n",
    "print(\"--------------------\")\n",
    "\n",
    "# Controllo se \"aspartate acid\" è presente\n",
    "aspartate_acid_rf = ('aspartic acid' in get_metabolites(codes_rf, metabolites))\n",
    "print(aspartate_acid_rf)\n",
    "\n",
    "# Controllo se \"pyrophosphate\" è presente\n",
    "pyrophosphate_rf = ('pyrophosphate' in get_metabolites(codes_rf, metabolites))\n",
    "print(pyrophosphate_rf)"
   ]
  },
  {
   "cell_type": "markdown",
   "metadata": {},
   "source": [
    "### Support Vector Machine"
   ]
  },
  {
   "cell_type": "code",
   "execution_count": 36,
   "metadata": {},
   "outputs": [
    {
     "name": "stdout",
     "output_type": "stream",
     "text": [
      "56\n"
     ]
    }
   ],
   "source": [
    "codes_svm = ['M1', 'M4', 'M6', 'M7', 'M8', 'M9', 'M13', 'M16', 'M24', 'M25', 'M31', 'M33', 'M37', 'M39', 'M41', 'M42', 'M44', 'M45', 'M47', 'M50', 'M60', 'M62', 'M63', 'M67', 'M68', 'M69', 'M74', 'M76', 'M78', 'M84', 'M89', 'M91', 'M92', 'M97', 'M100', 'M103', 'M104', 'M105', 'M106', 'M115', 'M117', 'M121', 'M129', 'M133', 'M139', 'M140', 'M149', 'M151', 'M154', 'M161', 'M168', 'M170', 'M171', 'M173', 'M176', 'M179']\n",
    "print(len(codes_svm))"
   ]
  },
  {
   "cell_type": "code",
   "execution_count": 37,
   "metadata": {},
   "outputs": [
    {
     "name": "stdout",
     "output_type": "stream",
     "text": [
      "xylose\n",
      "valine\n",
      "uric acid\n",
      "urea\n",
      "tyrosine\n",
      "tryptophan\n",
      "threonine\n",
      "taurine\n",
      "serine\n",
      "salicylic acid\n",
      "pyrophosphate\n",
      "proline\n",
      "phenylalanine\n",
      "paracetamol\n",
      "palmitoleic acid\n",
      "palmitic acid\n",
      "oxoproline\n",
      "oxalic acid\n",
      "oleic acid\n",
      "naproxen\n",
      "mannitol\n",
      "maltose\n",
      "malonic acid\n",
      "lysine\n",
      "linolenic acid\n",
      "linoleic acid\n",
      "lauric acid\n",
      "lactic acid\n",
      "kynurenine\n",
      "inositol myo-\n",
      "hypoxanthine\n",
      "histidine\n",
      "hippuric acid\n",
      "glycine\n",
      "glycerol\n",
      "glutamine\n",
      "glutamic acid\n",
      "glucuronic acid\n",
      "glucose\n",
      "fructose\n",
      "erythritol\n",
      "cystine\n",
      "cholesterol\n",
      "butane-2,3-diol (NIST)\n",
      "azelaic acid\n",
      "aspartic acid\n",
      "alanine\n",
      "adenosine-5-phosphate\n",
      "6-deoxyglucitol NIST\n",
      "3-hydroxybutanoic acid\n",
      "2-hydroxyhippuric acid\n",
      "2-hydroxybutanoic acid\n",
      "deoxytetronic acid NIST\n",
      "deoxythreittol NIST\n",
      "1,5-anhydroglucitol\n",
      "715929 carbohydrate\n",
      "--------------------\n",
      "True\n",
      "True\n"
     ]
    }
   ],
   "source": [
    "for m in get_metabolites(codes_svm, metabolites):\n",
    "    print(m)\n",
    "\n",
    "print(\"--------------------\")\n",
    "\n",
    "# Controllo se \"aspartate acid\" è presente\n",
    "aspartate_acid_svm = ('aspartic acid' in get_metabolites(codes_svm, metabolites))\n",
    "print(aspartate_acid_svm)\n",
    "\n",
    "# Controllo se \"pyrophosphate\" è presente\n",
    "pyrophosphate_svm = ('pyrophosphate' in get_metabolites(codes_svm, metabolites))\n",
    "print(pyrophosphate_svm)"
   ]
  },
  {
   "cell_type": "markdown",
   "metadata": {},
   "source": [
    "### eXtreme Gradient Boost"
   ]
  },
  {
   "cell_type": "code",
   "execution_count": 38,
   "metadata": {},
   "outputs": [
    {
     "name": "stdout",
     "output_type": "stream",
     "text": [
      "56\n"
     ]
    }
   ],
   "source": [
    "codes_xgb = ['M1', 'M4', 'M6', 'M7', 'M8', 'M9', 'M13', 'M16', 'M24', 'M25', 'M31', 'M33', 'M37', 'M39', 'M41', 'M42', 'M44', 'M45', 'M47', 'M50', 'M60', 'M62', 'M63', 'M67', 'M68', 'M69', 'M74', 'M76', 'M78', 'M84', 'M89', 'M91', 'M92', 'M97', 'M100', 'M103', 'M104', 'M105', 'M106', 'M115', 'M117', 'M121', 'M129', 'M133', 'M139', 'M140', 'M149', 'M151', 'M154', 'M161', 'M168', 'M170', 'M171', 'M173', 'M176', 'M179']\n",
    "print(len(codes_xgb))"
   ]
  },
  {
   "cell_type": "code",
   "execution_count": 39,
   "metadata": {},
   "outputs": [
    {
     "name": "stdout",
     "output_type": "stream",
     "text": [
      "xylose\n",
      "valine\n",
      "uric acid\n",
      "urea\n",
      "tyrosine\n",
      "tryptophan\n",
      "threonine\n",
      "taurine\n",
      "serine\n",
      "salicylic acid\n",
      "pyrophosphate\n",
      "proline\n",
      "phenylalanine\n",
      "paracetamol\n",
      "palmitoleic acid\n",
      "palmitic acid\n",
      "oxoproline\n",
      "oxalic acid\n",
      "oleic acid\n",
      "naproxen\n",
      "mannitol\n",
      "maltose\n",
      "malonic acid\n",
      "lysine\n",
      "linolenic acid\n",
      "linoleic acid\n",
      "lauric acid\n",
      "lactic acid\n",
      "kynurenine\n",
      "inositol myo-\n",
      "hypoxanthine\n",
      "histidine\n",
      "hippuric acid\n",
      "glycine\n",
      "glycerol\n",
      "glutamine\n",
      "glutamic acid\n",
      "glucuronic acid\n",
      "glucose\n",
      "fructose\n",
      "erythritol\n",
      "cystine\n",
      "cholesterol\n",
      "butane-2,3-diol (NIST)\n",
      "azelaic acid\n",
      "aspartic acid\n",
      "alanine\n",
      "adenosine-5-phosphate\n",
      "6-deoxyglucitol NIST\n",
      "3-hydroxybutanoic acid\n",
      "2-hydroxyhippuric acid\n",
      "2-hydroxybutanoic acid\n",
      "deoxytetronic acid NIST\n",
      "deoxythreittol NIST\n",
      "1,5-anhydroglucitol\n",
      "715929 carbohydrate\n",
      "--------------------\n",
      "True\n",
      "True\n"
     ]
    }
   ],
   "source": [
    "for m in get_metabolites(codes_xgb, metabolites):\n",
    "    print(m)\n",
    "\n",
    "print(\"--------------------\")\n",
    "\n",
    "# Controllo se \"aspartate acid\" è presente\n",
    "aspartate_acid_xgb = ('aspartic acid' in get_metabolites(codes_xgb, metabolites))\n",
    "print(aspartate_acid_xgb)\n",
    "\n",
    "# Controllo se \"pyrophosphate\" è presente\n",
    "pyrophosphate_xgb = ('pyrophosphate' in get_metabolites(codes_xgb, metabolites))\n",
    "print(pyrophosphate_xgb)"
   ]
  },
  {
   "cell_type": "markdown",
   "metadata": {},
   "source": [
    "### Tabella"
   ]
  },
  {
   "cell_type": "code",
   "execution_count": 40,
   "metadata": {},
   "outputs": [
    {
     "name": "stdout",
     "output_type": "stream",
     "text": [
      "+-------------------------+----------------+-----------------------+-------------------------+\n",
      "|         Modello         | N. di features | Presenza di aspartato | Presenza di pirofosfato |\n",
      "+-------------------------+----------------+-----------------------+-------------------------+\n",
      "|        AdaBoost         |       54       |         True          |          True           |\n",
      "|    Gradient Boosting    |       57       |         True          |          True           |\n",
      "|   Logistic Regression   |       69       |         True          |          True           |\n",
      "| Multinomial Naive Bayes |       36       |         True          |          True           |\n",
      "|  Partial Least Squares  |       52       |         True          |          True           |\n",
      "|      Random Forest      |       67       |         True          |          True           |\n",
      "|  Suppor Vector Machine  |       56       |         True          |          True           |\n",
      "|         XGBoost         |       56       |         True          |          True           |\n",
      "+-------------------------+----------------+-----------------------+-------------------------+\n"
     ]
    },
    {
     "data": {
      "image/png": "[encoded data removed]",
      "text/plain": [
       "<Figure size 1400x1000 with 1 Axes>"
      ]
     },
     "metadata": {},
     "output_type": "display_data"
    }
   ],
   "source": [
    "\n",
    "models = ['AdaBoost', 'Gradient Boosting', 'Logistic Regression', 'Multinomial Naive Bayes', 'Partial Least Squares', 'Random Forest', 'Suppor Vector Machine', 'XGBoost']  \n",
    "features = [len(codes_ab), len(codes_gb), len(codes_lr), len(codes_mnb), len(codes_pls), len(codes_rf), len(codes_svm), len(codes_xgb)] \n",
    "aspartate_acid = [aspartate_acid_ab, aspartate_acid_gb, aspartate_acid_lr, aspartate_acid_mnb, aspartate_acid_pls, aspartate_acid_rf, aspartate_acid_svm, aspartate_acid_xgb] \n",
    "pyrophosphate = [pyrophosphate_ab, pyrophosphate_gb, pyrophosphate_lr, pyrophosphate_mnb, pyrophosphate_pls, pyrophosphate_rf, pyrophosphate_svm, pyrophosphate_xgb] \n",
    "\n",
    "data = {\n",
    "    'Modello': models,\n",
    "    'N. di features': features,\n",
    "    'Presenza di aspartato': aspartate_acid,\n",
    "    'Presenza di pirofosfato': pyrophosphate\n",
    "}\n",
    "\n",
    "df = pd.DataFrame(data)\n",
    "print(tabulate(df, headers='keys', tablefmt='pretty', showindex=False))\n",
    "\n",
    "fig, ax = plt.subplots(figsize=(14, 10))\n",
    "tab = Table(df)\n",
    "plt.show()\n"
   ]
  }
 ],
 "metadata": {
  "kernelspec": {
   "display_name": "thesis",
   "language": "python",
   "name": "python3"
  },
  "language_info": {
   "codemirror_mode": {
    "name": "ipython",
    "version": 3
   },
   "file_extension": ".py",
   "mimetype": "text/x-python",
   "name": "python",
   "nbconvert_exporter": "python",
   "pygments_lexer": "ipython3",
   "version": "3.11.0"
  }
 },
 "nbformat": 4,
 "nbformat_minor": 2
}
